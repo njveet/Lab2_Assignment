{
  "nbformat": 4,
  "nbformat_minor": 0,
  "metadata": {
    "colab": {
      "provenance": [],
      "authorship_tag": "ABX9TyM3wrlDcxtC9KlPpOqLbUGA",
      "include_colab_link": true
    },
    "kernelspec": {
      "name": "python3",
      "display_name": "Python 3"
    },
    "language_info": {
      "name": "python"
    }
  },
  "cells": [
    {
      "cell_type": "markdown",
      "metadata": {
        "id": "view-in-github",
        "colab_type": "text"
      },
      "source": [
        "<a href=\"https://colab.research.google.com/github/njveet/Lab2_Assignment/blob/main/daljrrt_Assignment_02.ipynb\" target=\"_parent\"><img src=\"https://colab.research.google.com/assets/colab-badge.svg\" alt=\"Open In Colab\"/></a>"
      ]
    },
    {
      "cell_type": "code",
      "execution_count": 1,
      "metadata": {
        "colab": {
          "base_uri": "https://localhost:8080/"
        },
        "id": "-6Cy35UZ4rjG",
        "outputId": "3ef71b26-0e29-4338-8f4c-a9821defeb44"
      },
      "outputs": [
        {
          "output_type": "stream",
          "name": "stdout",
          "text": [
            "Creating a default pizza\n",
            "medium pizza with ['cheese'] for $8.99\n",
            "\n",
            "Adding topping: ['cheese', 'olive']\n",
            "medium pizza with ['cheese', 'cheese', 'olive'] for $9.99\n",
            "\n",
            "Creating a new pizza\n",
            "large pizza with ['cheese', 'pepper'] for $11.49\n",
            "\n",
            "Adding topping: ['pineapple', 'mushroom']\n",
            "large pizza with ['cheese', 'pepper', 'pineapple', 'mushroom'] for $12.49\n",
            "\n",
            "Changing order size to x-large\n",
            "x-large pizza with ['cheese', 'pepper', 'pineapple', 'mushroom'] for $15.49\n",
            "\n",
            "Changing order size to gigantic\n",
            "ERROR: gigantic is not a valid size for a pizza\n"
          ]
        }
      ],
      "source": [
        "# Author: [Daljeet 300990506]\n",
        "# Date: [23/01/2024]\n",
        "# Assignment 02\n",
        "\n",
        "class Pizza:\n",
        "    # Class attributes\n",
        "    valid_sizes = ['small', 'medium', 'large', 'x-large']\n",
        "    prices = {'small': 6.49, 'medium': 8.49, 'large': 10.49, 'x-large': 13.49}\n",
        "\n",
        "    def __init__(self, size='medium', toppings=['cheese']):\n",
        "        # Instance attributes\n",
        "        self.__size = None\n",
        "        self.__toppings = None\n",
        "\n",
        "        # Constructor\n",
        "        self.size = size\n",
        "        self.__toppings = toppings if toppings else ['cheese']\n",
        "\n",
        "    def add(self, toppings):\n",
        "        # Instance method\n",
        "        self.__toppings.extend(toppings)\n",
        "\n",
        "    def __str__(self):\n",
        "        # Instance method\n",
        "        return f'{self.__size} pizza with {self.__toppings} for ${self.price:.2f}'\n",
        "\n",
        "    @property\n",
        "    def price(self):\n",
        "        # Instance property\n",
        "        topping_cost = len(self.__toppings) * 0.50\n",
        "        return self.prices[self.__size] + topping_cost\n",
        "\n",
        "    @property\n",
        "    def size(self):\n",
        "        # Instance property\n",
        "        return self.__size\n",
        "\n",
        "    @size.setter\n",
        "    def size(self, value):\n",
        "        # Instance property setter\n",
        "        if value not in self.valid_sizes:\n",
        "            raise ValueError(f'ERROR: {value} is not a valid size for a pizza')\n",
        "        self.__size = value\n",
        "\n",
        "\n",
        "# Test harness\n",
        "print(f'Creating a default pizza')\n",
        "p = Pizza()\n",
        "print(p)\n",
        "\n",
        "toppings = 'cheese olive'.split()\n",
        "print(f'\\nAdding topping: {toppings}')\n",
        "p.add(toppings=toppings)\n",
        "print(p)\n",
        "\n",
        "print(f'\\nCreating a new pizza')\n",
        "p = Pizza('large', 'cheese pepper'.split())\n",
        "print(p)\n",
        "\n",
        "toppings = ['pineapple', 'mushroom']\n",
        "print(f'\\nAdding topping: {toppings}')\n",
        "p.add(toppings)\n",
        "print(p)\n",
        "\n",
        "size = 'x-large'\n",
        "p.size = size\n",
        "print(f'\\nChanging order size to {size}')\n",
        "print(p)\n",
        "\n",
        "size = 'gigantic'\n",
        "print(f'\\nChanging order size to {size}')\n",
        "try:\n",
        "    p.size = size\n",
        "except ValueError as err:\n",
        "    print(err)\n"
      ]
    },
    {
      "cell_type": "code",
      "source": [
        "# New Cell 1: Creating a new pizza\n",
        "p = Pizza('large', 'cheese pepper'.split())\n",
        "print(p)\n"
      ],
      "metadata": {
        "colab": {
          "base_uri": "https://localhost:8080/"
        },
        "id": "YwDcvDTx5BK0",
        "outputId": "adf1fa4c-f89a-4bd0-959e-1b50703104e9"
      },
      "execution_count": 2,
      "outputs": [
        {
          "output_type": "stream",
          "name": "stdout",
          "text": [
            "large pizza with ['cheese', 'pepper'] for $11.49\n"
          ]
        }
      ]
    }
  ]
}