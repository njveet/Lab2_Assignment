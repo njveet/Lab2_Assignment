{
  "nbformat": 4,
  "nbformat_minor": 0,
  "metadata": {
    "colab": {
      "provenance": [],
      "authorship_tag": "ABX9TyOeo31QQxMST0fImpt8dlCP",
      "include_colab_link": true
    },
    "kernelspec": {
      "name": "python3",
      "display_name": "Python 3"
    },
    "language_info": {
      "name": "python"
    }
  },
  "cells": [
    {
      "cell_type": "markdown",
      "metadata": {
        "id": "view-in-github",
        "colab_type": "text"
      },
      "source": [
        "<a href=\"https://colab.research.google.com/github/njveet/Lab2_Assignment/blob/main/daljeet_Lab_3_Shopper_Class.ipynb\" target=\"_parent\"><img src=\"https://colab.research.google.com/assets/colab-badge.svg\" alt=\"Open In Colab\"/></a>"
      ]
    },
    {
      "cell_type": "code",
      "execution_count": 2,
      "metadata": {
        "colab": {
          "base_uri": "https://localhost:8080/"
        },
        "id": "RPq7VL9JfQuT",
        "outputId": "1737e32f-2473-4e50-8559-cb331fb6ed65"
      },
      "outputs": [
        {
          "output_type": "stream",
          "name": "stdout",
          "text": [
            "Price dict: {'apple': 1.8, 'bread': 2.2, 'milk': 4.9, 'pepper': 1.2}\n",
            "Sales list: ['apple', 'banana']\n",
            "\n",
            "Narendra cash in hand $20.00\n",
            "  items:\n",
            "  []\n",
            "Narendra is purchasing: ['bread', 'milk', 'bread']\n",
            "Narendra cash in hand $11.63\n",
            "  items:\n",
            "  [('bread', 2.2), ('milk', 4.9), ('bread', 2.2)]\n",
            "\n",
            "Ilia is purchasing: ['banana', 'milk']\n",
            "Ilia cash in hand $18.68\n",
            "  items:\n",
            "  [('banana', 2.12), ('milk', 4.9)]\n",
            "\n",
            "Arben is purchasing: ['apple', 'pepper', 'cauliflower', 'pepper']\n",
            "Arben cash in hand $9.54\n",
            "  items:\n",
            "  [('apple', 1.53), ('pepper', 1.02), ('cauliflower', 2.5), ('pepper', 1.02)]\n",
            "\n",
            "Public members of the class: ['add_sale_item', 'get_name', 'price_list', 'purchase', 'sale_items']\n",
            "Public properties: []\n",
            "Public methods: ['add_sale_item', 'get_name', 'price_list', 'purchase', 'sale_items']\n"
          ]
        }
      ],
      "source": [
        "# Daljeet Bhinder\n",
        "# Student ID: [300990506]\n",
        "\n",
        "class Shopper:\n",
        "    # Class variables\n",
        "    __prices = {'apple': 1.8, 'bread': 2.2, 'milk': 4.9, 'pepper': 1.2}\n",
        "    __sale_items = ['apple', 'banana']\n",
        "    __discount_threshold = 6\n",
        "    __default_price = 2.5\n",
        "    __volume_discount = 0.9\n",
        "    __sales_discount = 0.85\n",
        "\n",
        "    @classmethod\n",
        "    def price_list(cls):\n",
        "        return cls.__prices.copy()\n",
        "\n",
        "    @classmethod\n",
        "    def sale_items(cls):\n",
        "        return cls.__sale_items.copy()\n",
        "\n",
        "    @classmethod\n",
        "    def add_sale_item(cls, item):\n",
        "        cls.__sale_items.append(item)\n",
        "\n",
        "    # Constructor\n",
        "    def __init__(self, name, cash):\n",
        "        self.name = name\n",
        "        self.cash = cash\n",
        "        self.purchases = []\n",
        "\n",
        "    # Instance property\n",
        "    def get_name(self):\n",
        "        return self.name\n",
        "\n",
        "    # Instance method\n",
        "    def purchase(self, items):\n",
        "        total_cost = 0\n",
        "        for item in items:\n",
        "            price = self.__prices.get(item, self.__default_price)\n",
        "            if item in self.__sale_items:\n",
        "                price *= self.__sales_discount\n",
        "            total_cost += price\n",
        "            self.purchases.append((item, round(price, 2)))\n",
        "\n",
        "        if total_cost > self.__discount_threshold:\n",
        "            total_cost *= self.__volume_discount\n",
        "\n",
        "        self.cash -= total_cost\n",
        "\n",
        "    def __str__(self):\n",
        "        result = f'{self.name} cash in hand ${self.cash:.2f}\\n  items:\\n  {self.purchases}'\n",
        "        return result\n",
        "\n",
        "\n",
        "# Test Harness\n",
        "print(f'Price dict: {Shopper.price_list()}')\n",
        "print(f'Sales list: {Shopper.sale_items()}')\n",
        "\n",
        "nar = Shopper('Narendra', 20)\n",
        "print(f'\\n{nar}')\n",
        "\n",
        "items = 'bread milk bread'.split()\n",
        "print(f'{nar.name} is purchasing: {items}')\n",
        "nar.purchase(items)\n",
        "print(f'{nar}')\n",
        "\n",
        "ilia = Shopper('Ilia', 25)\n",
        "items = 'banana milk'.split()\n",
        "print(f'\\n{ilia.name} is purchasing: {items}')\n",
        "ilia.purchase(items)\n",
        "print(f'{ilia}')\n",
        "\n",
        "Shopper.add_sale_item('pepper')\n",
        "\n",
        "arben = Shopper('Arben', 15)\n",
        "items = 'apple pepper cauliflower pepper'.split()\n",
        "print(f'\\n{arben.name} is purchasing: {items}')\n",
        "arben.purchase(items)\n",
        "print(f'{arben}')\n",
        "\n",
        "members = [member for member in dir(Shopper) if not member.startswith('_')]\n",
        "print(f'\\nPublic members of the class: {members}')\n",
        "properties = [member for member in members if not callable(getattr(Shopper, member))]\n",
        "print(f'Public properties: {properties}')\n",
        "methods = [member for member in members if callable(getattr(Shopper, member))]\n",
        "print(f'Public methods: {methods}')\n"
      ]
    }
  ]
}